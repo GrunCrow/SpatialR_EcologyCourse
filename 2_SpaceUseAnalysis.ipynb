{
 "cells": [
  {
   "cell_type": "markdown",
   "metadata": {},
   "source": [
    "# Space Use Analysis\n",
    "\n",
    "**Home Range**: área recorrida por un animal durante sus actividades normales de alimentación, apareamiento y cuidado de la cría.\n",
    "\n",
    "**MPC**: Minimum Polygon Convex, polígono de lados rectos más pequeño que engloba el 95% de los puntos de localización de un animal.\n",
    "\n",
    "**UD**: Utilization Distribution, distribución de uso, polígono que engloba el 95% de la probabilidad de que un animal se encuentre en un lugar."
   ]
  }
 ],
 "metadata": {
  "language_info": {
   "name": "python"
  }
 },
 "nbformat": 4,
 "nbformat_minor": 2
}

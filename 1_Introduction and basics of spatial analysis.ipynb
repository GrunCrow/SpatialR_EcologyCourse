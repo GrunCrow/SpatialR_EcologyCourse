{
 "cells": [
  {
   "cell_type": "markdown",
   "metadata": {},
   "source": [
    "# Introduction and basics of spatial analysis\n",
    "\n",
    "- Undestanding GIS data\n",
    "- Basic Spatial References\n",
    "- Information sources and metadata\n",
    "- Introduction to R and its capabilities for spatial analysis"
   ]
  },
  {
   "cell_type": "markdown",
   "metadata": {},
   "source": [
    "## GIS\n",
    "Geographical Information Systems Data\n",
    "\n",
    "computerized system designed for the storage, retrieval, and analyis of geographically referenced data.\n",
    "\n",
    "- G: Geographic - Where\n",
    "- I: Information - What, data attached to the where\n",
    "- S: System - How, many components working together to achieve a common goal\n",
    "\n",
    "### Types of Geographic Data\n",
    "\n",
    "- Points\n",
    "- Lines\n",
    "- Polygons\n",
    "\n",
    "And it can be represented in two ways:\n",
    "- **Vector**: series of x,y coordinates, discrete data, represented in vertices, smaller file size. Ex: points, lines, polygons and TINs (Triangulated Irregular Networks = vector-based representation of the physical land surface or sea bottom, the basic unit is a triangle)\n",
    "- **Raster**: pixels, continuous data, represented in cells or grid, larger file size. Ex: elevation, slope...\n",
    "    - Continuous data: data that can take any value within a range. Ex: temperature, elevation, precipitation\n",
    "    - Discrete data: data that can take only specific values. Ex: land use, soil type, vegetation type\n",
    "\n",
    "    Measured by cell size dimensions (resolution) and number of cells (extent)\n",
    "        - **Values applies to the center point of the cell**. For certain types of data, the cell value represents a measured value at the center point of the cell.\n",
    "        - **Values applies to the whole area of the cell**. For certain types of data, the cell value represents an average value for the whole area of the cell.\n",
    "\n",
    "A GIS stores information about the world as a collection of thematic layers that can be linked together by geography.\n",
    "\n"
   ]
  }
 ],
 "metadata": {
  "language_info": {
   "name": "python"
  }
 },
 "nbformat": 4,
 "nbformat_minor": 2
}

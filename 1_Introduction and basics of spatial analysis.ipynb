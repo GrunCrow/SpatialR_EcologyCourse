{
 "cells": [
  {
   "cell_type": "markdown",
   "metadata": {},
   "source": [
    "# Introduction and basics of spatial analysis\n",
    "\n",
    "- Undestanding GIS data\n",
    "- Basic Spatial References\n",
    "- Information sources and metadata\n",
    "- Introduction to R and its capabilities for spatial analysis"
   ]
  },
  {
   "cell_type": "markdown",
   "metadata": {},
   "source": [
    "## GIS\n",
    "Geographical Information Systems Data\n",
    "\n",
    "computerized system designed for the storage, retrieval, and analyis of geographically referenced data.\n",
    "\n",
    "- G: Geographic - Where\n",
    "- I: Information - What, data attached to the where\n",
    "- S: System - How, many components working together to achieve a common goal\n",
    "\n",
    "### Types of Geographic Data\n",
    "\n",
    "- Points\n",
    "- Lines\n",
    "- Polygons\n",
    "\n",
    "And it can be represented in two ways:\n",
    "- **Vector**: series of x,y coordinates, discrete data, represented in vertices, smaller file size. Ex: points, lines, polygons and TINs (Triangulated Irregular Networks = vector-based representation of the physical land surface or sea bottom, the basic unit is a triangle)\n",
    "- **Raster**: pixels, continuous data, represented in cells or grid, larger file size. Ex: elevation, slope...\n",
    "    - Continuous data: data that can take any value within a range. Ex: temperature, elevation, precipitation\n",
    "    - Discrete data: data that can take only specific values. Ex: land use, soil type, vegetation type\n",
    "\n",
    "    Measured by cell size dimensions (resolution) and number of cells (extent)\n",
    "        - **Values applies to the center point of the cell**. For certain types of data, the cell value represents a measured value at the center point of the cell.\n",
    "        - **Values applies to the whole area of the cell**. For certain types of data, the cell value represents an average value for the whole area of the cell.\n",
    "\n",
    "A GIS stores information about the world as a collection of thematic layers that can be linked together by geography.\n",
    "\n",
    "### Scale\n",
    "\n",
    "Relationship between the size of an object on a map and the size of the actual object on the ground.\n",
    "\n",
    "1:1000000 means that 1 unit on the map is equivalent to 1,000,000 units on the ground. (1 cm = 10 km)\n",
    "\n",
    "## Introduction to R and its capabilities for spatial analysis\n",
    "\n",
    "- Emphasize the advantages of R for spatial analysis, versatility, integration with other tools and the extensive ecosystem of spatial analysis libraries.\n",
    "- Comparison with Other GIS Software: Contrast R with traditional GIS tools like arcGIS, QGIS, etc. highlighting strengths like statistical analysis, automation, and reproducibility through scripts.\n",
    "\n",
    "### Key Spatial Packages in R\n",
    "\n",
    "- **sf**: Simple Features, core package for handling vector data (points, lines, polygons) in a simple, efficient way.\n",
    "- **sp**: Older but still widely used, package for spatial data manipulation and modeling.\n",
    "- **raster**: For handling raster datasets, such as satellite images or digital elevation models (DEMs).\n",
    "- **terra**: Newer package for handling raster and vector data, with a focus on large datasets and high-performance computing.\n",
    "- **tmap**: For creating static and interactive maps.\n",
    "- **ggplot2**: For creating advanced maps, static maps with the grammar of graphics.\n",
    "- **leaflet**: For creating interactive web maps.\n",
    "- **mapview**: For interactive maps in RStudio viewer or web browser.\n",
    "\n",
    "### Basic Spatial Data Structure in R\n",
    "- **Vector Data**\n",
    "    - **Simple features (sf)**: \n",
    "    - st_read() a json file\n",
    "    - sf::st_write() to write a shapefile\n",
    "- **Raser Data**\n",
    "    - **Raster Structure**\n",
    "    - raster() or terra::rast() to read a raster file\n",
    "    - writeRaster() to write a raster file\n"
   ]
  },
  {
   "cell_type": "code",
   "execution_count": null,
   "metadata": {
    "vscode": {
     "languageId": "plaintext"
    }
   },
   "outputs": [],
   "source": []
  }
 ],
 "metadata": {
  "language_info": {
   "name": "python"
  }
 },
 "nbformat": 4,
 "nbformat_minor": 2
}
